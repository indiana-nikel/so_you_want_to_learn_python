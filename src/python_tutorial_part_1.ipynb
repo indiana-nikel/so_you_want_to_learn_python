{
 "cells": [
  {
   "cell_type": "markdown",
   "metadata": {},
   "source": [
    "# Getting Started with Python: Part One"
   ]
  },
  {
   "cell_type": "markdown",
   "metadata": {},
   "source": [
    "So you've decided to learn programming using Python. Wonderful! In this tutorial, we'll walk through the basics of programming and give ourselves the groundwork to build off of."
   ]
  },
  {
   "cell_type": "markdown",
   "metadata": {},
   "source": [
    "## What is \"Python\"?"
   ]
  },
  {
   "cell_type": "markdown",
   "metadata": {},
   "source": [
    "Python is a programming language that has both the lowest barier to entry and the most flexibility out of any programming language. In the simplest terms, Python allows you to control your computer in a way that may not be possible though the traditional keyboard-and-mouse. In addition, Python will also allow you control programs in an automated fashion (ie. Microsoft Excel).\n",
    "\n",
    "Programming languages give you the power to control and automate processes that would otherwise be tedious or repetitive for a human to do so. Computers are great at doing exactly what they're told, that comes with a downside: they do **exactly** what they are told.\n",
    "\n",
    "Let's get into the basics!"
   ]
  },
  {
   "cell_type": "markdown",
   "metadata": {},
   "source": [
    "## Jupyter Notebook"
   ]
  },
  {
   "cell_type": "markdown",
   "metadata": {},
   "source": [
    "Since you've gotten to this point, we'll assume you've already downloaded and installed not only Python, but Jupyter as well. Let's explain what were actually doing here. \n",
    "\n",
    "Traditionally, programming languages require an external program to give them commands (you can also do this through the command line or terminal, but that's not for this tutorial). These programs are called interactive development environments, or IDE's. These programs tend to be very clunky to learn and require you to know how to write the in's and out's of a script before even getting the simplest code to work. \n",
    "\n",
    "What we're doing here with Jupyter is that we're using an IDE on steroids. Your code does not need the traditional in's and out's, simply enter your code into a cell here and hit `run` on the top of the toolbar. You can also run multiple cells in succession and anything that you do in the previous cells will be accessible by the following cells. This gives us a *notebook* feel and will make our code easy to get up and running. \n",
    "\n",
    "You'll most likely be doing the majority of your work in Jupyter notebooks (and we'll cover the uses outside of notebooks later on in this tutorial)."
   ]
  },
  {
   "cell_type": "markdown",
   "metadata": {},
   "source": [
    "The notebook toolbar is often cluncy to use, so I've added a list of common shortcuts here:\n",
    "* `shift-enter` --> Run a cell\n",
    "* `b` -> Create a new cell\n",
    "* `d`x2 --> Delete a cell (careful holding down the `d` key!)\n",
    "* `y` --> Convert a cell to a code cell\n",
    "* `m` --> Convert a cell to a markdown cell (markdown is the syntax for general writing, like I'm doing here! Tutorial and syntax can be found here: https://guides.github.com/features/mastering-markdown/"
   ]
  },
  {
   "cell_type": "markdown",
   "metadata": {},
   "source": [
    "# Python Tutorial"
   ]
  },
  {
   "cell_type": "markdown",
   "metadata": {},
   "source": [
    "## Variables"
   ]
  },
  {
   "cell_type": "markdown",
   "metadata": {},
   "source": [
    "Python is known as an object-oriented programming language (OOP). What this means is that we're always going to be thinking in terms of **objects**: we can move around our objects, change our objects, update our objects, etc. This also means that our objects will have properties. Let's go ahead and create a few objects, called **variables**."
   ]
  },
  {
   "cell_type": "markdown",
   "metadata": {},
   "source": [
    "What we're going to do is create a variable and do a operations to them:"
   ]
  },
  {
   "cell_type": "code",
   "execution_count": null,
   "metadata": {},
   "outputs": [],
   "source": [
    "x = 10"
   ]
  },
  {
   "cell_type": "markdown",
   "metadata": {},
   "source": [
    "Here, we've create a variable (object) called `x`. We've assigned `x` the value of 10 and that will stay until we restart/close our notebook, change `x` in some way, or delete `x` (you'll generally never delete a variable). We can then display the value of `x` using the function `print()`. Python has many built-in functions and they way we use them is by putting our object in the parentheses. \n",
    "\n",
    "These will get more complicated as we get going :)"
   ]
  },
  {
   "cell_type": "code",
   "execution_count": null,
   "metadata": {},
   "outputs": [],
   "source": [
    "print(x)"
   ]
  },
  {
   "cell_type": "markdown",
   "metadata": {},
   "source": [
    "So now we're showing the value of `x`. We can put togther these two cells and have the exact same output. In programming, when a command is on a new line, the program will execute them in order (similar to having two cells one after another)."
   ]
  },
  {
   "cell_type": "code",
   "execution_count": null,
   "metadata": {},
   "outputs": [],
   "source": [
    "# I'm what we call a comment! Anything with the # in front of it will not be run by Python. \n",
    "# This is a good way to write notes for your code and I'll be writing in here too for the remainder of the tutorial.\n",
    "\n",
    "x = 5\n",
    "print(x)"
   ]
  },
  {
   "cell_type": "markdown",
   "metadata": {},
   "source": [
    "Here, we've now reassigned the value of `x` to 5. No need to worry about memory or anything, Python takes care of the backend so all we can care about now is that `x` is 5. \n",
    "\n",
    "We can also make variable a word, commonly called a *string* (a string of characters)."
   ]
  },
  {
   "cell_type": "code",
   "execution_count": null,
   "metadata": {},
   "outputs": [],
   "source": [
    "# You can use either single quotations ('') or double quotations (\"\"), your choice!\n",
    "y = \"Hello\"\n",
    "print(y)"
   ]
  },
  {
   "cell_type": "markdown",
   "metadata": {},
   "source": [
    "Now let's do some operations on these variables! We can do lots of different things, and they depend on what kind of variable you're using:\n",
    "* `+`\n",
    "* `-`\n",
    "* `*`\n",
    "* `/`\n",
    "* `**`\n",
    "* `//`\n",
    "* `%`"
   ]
  },
  {
   "cell_type": "code",
   "execution_count": null,
   "metadata": {},
   "outputs": [],
   "source": [
    "x = x + 5\n",
    "print(x)"
   ]
  },
  {
   "cell_type": "code",
   "execution_count": null,
   "metadata": {},
   "outputs": [],
   "source": [
    "y = y + \" world!\"\n",
    "print(y)"
   ]
  },
  {
   "cell_type": "code",
   "execution_count": null,
   "metadata": {},
   "outputs": [],
   "source": [
    "x = x ** 2\n",
    "print(x)"
   ]
  },
  {
   "cell_type": "code",
   "execution_count": null,
   "metadata": {},
   "outputs": [],
   "source": [
    "y = y - 2\n",
    "print(y)"
   ]
  },
  {
   "cell_type": "markdown",
   "metadata": {},
   "source": [
    "So here we've run into a problem (often referred to as a `bug` in your code). We can't subtract an integer from a string. There are textbooks full of what you can and can't do , so I won't list every bug that can happen. The best thing to do is start to lean intuitively what does and does not work. When something doesn't work and you cannot seem to figure out how to fix it, the best thing to do is copy the error message, in this case `TypeError: unsupported operand type(s) for -: 'str' and 'int'` and paste it into your search engine of choice. \n",
    "\n",
    "Odds are, you aren't the first person to encounter this problem and there are solutions out there. The best posts tend to come from https://stackoverflow.com/ and I'll recommend those results first as a starting point. Learning to program is also learning how to search :)"
   ]
  },
  {
   "cell_type": "markdown",
   "metadata": {},
   "source": [
    "Go ahead and play around with assigning/reassigning variables and manipulating them, either in this notebook or in your own. What happens when you use a decimal point with a number? What does adding parentheses do?"
   ]
  },
  {
   "cell_type": "code",
   "execution_count": null,
   "metadata": {},
   "outputs": [],
   "source": []
  },
  {
   "cell_type": "markdown",
   "metadata": {},
   "source": [
    "## Advanced Variables"
   ]
  },
  {
   "cell_type": "markdown",
   "metadata": {},
   "source": [
    "Now that you're comfortable with variables, let's add in a few more. So we've been using objects up to this point, but what happens when you want to use a collection of variables? We'll use something like these:"
   ]
  },
  {
   "cell_type": "code",
   "execution_count": null,
   "metadata": {},
   "outputs": [],
   "source": [
    "l1 = [1, 2, \"three\", 4, 5.5]\n",
    "print(l1)"
   ]
  },
  {
   "cell_type": "markdown",
   "metadata": {},
   "source": [
    "Here, we have what is a called a **list**, a collection of integers, or floats, or string, or a mixture. Can even have a list of lists!"
   ]
  },
  {
   "cell_type": "code",
   "execution_count": null,
   "metadata": {},
   "outputs": [],
   "source": [
    "list_of_lists = [\n",
    "    [\"one\", 2, 3],\n",
    "    [4, \"five\", 6.6],\n",
    "]\n",
    "print(list_of_lists)"
   ]
  },
  {
   "cell_type": "markdown",
   "metadata": {},
   "source": [
    "Since we're using a more advanced variable, it also comes with more advanced properties. Let's say we want to add another element to our list:"
   ]
  },
  {
   "cell_type": "code",
   "execution_count": null,
   "metadata": {},
   "outputs": [],
   "source": [
    "my_list = [1, 2, 3]\n",
    "print(my_list)\n",
    "\n",
    "my_list.append(4)\n",
    "print(my_list)"
   ]
  },
  {
   "cell_type": "markdown",
   "metadata": {},
   "source": [
    "What we've done here is used a **method**. By putting the `.` and then a function (we'll talk more about functions later), we're able to do more complicated tasks. Different variables have different methods and not all of them will work on each other, or in the same way.\n",
    "\n",
    "Think about programming a bicycle. You would maybe make an object called `bicycle` and you may want the method `bicycle.move('forward')` or `bicycle.stop()`, but you wouldn't expect there to be a method called `bicycle.fly()`. Same thing with our variables."
   ]
  },
  {
   "cell_type": "markdown",
   "metadata": {},
   "source": [
    "Let's try something else, what if we only want to find the third element in our list. What do we do? We do what is called **indexing**, selecting the n-th element of our list."
   ]
  },
  {
   "cell_type": "code",
   "execution_count": null,
   "metadata": {},
   "outputs": [],
   "source": [
    "print(my_list[3])"
   ]
  },
  {
   "cell_type": "markdown",
   "metadata": {},
   "source": [
    "But wait, isn't the thrid element of `my_list` 3? What happened?\n",
    "\n",
    "Python (and most other programming languages) start counting at 0. If we were to use 0, this is our first element, 1 is our second, etc. The reason for this is that we can use negative numbers too. If 0 is the first element and counting up moves up to the right, then -1 and counting down will start at the *last* element and go to the right."
   ]
  },
  {
   "cell_type": "code",
   "execution_count": null,
   "metadata": {},
   "outputs": [],
   "source": [
    "# This is a really important concept, indexing\n",
    "(\"Counting Positive:\")\n",
    "print(my_list[0])\n",
    "print(my_list[1])\n",
    "print(my_list[2])\n",
    "print(my_list[3])\n",
    "\n",
    "print(\"Counting Negative:\")\n",
    "print(my_list[-1])\n",
    "print(my_list[-2])\n",
    "print(my_list[-3])\n",
    "print(my_list[-4])"
   ]
  },
  {
   "cell_type": "markdown",
   "metadata": {},
   "source": [
    "And what would happen if we use an index of something that doesn't exist?"
   ]
  },
  {
   "cell_type": "code",
   "execution_count": null,
   "metadata": {},
   "outputs": [],
   "source": [
    "print(my_list[10])"
   ]
  },
  {
   "cell_type": "markdown",
   "metadata": {},
   "source": [
    "We can also select multiple elements using the `:` when indexing:"
   ]
  },
  {
   "cell_type": "code",
   "execution_count": null,
   "metadata": {},
   "outputs": [],
   "source": [
    "print(my_list[0:2])"
   ]
  },
  {
   "cell_type": "markdown",
   "metadata": {},
   "source": [
    "We get an error. No surprises there :)"
   ]
  },
  {
   "cell_type": "markdown",
   "metadata": {},
   "source": [
    "There are more collections of variables that we can talk about and each have their own distint properties and uses. I'll create them here, but I encourage you to try doing what we did above but with these collections and see what the differences are."
   ]
  },
  {
   "cell_type": "code",
   "execution_count": null,
   "metadata": {},
   "outputs": [],
   "source": [
    "my_dict = {\n",
    "    \"variable1\":1,\n",
    "    \"variable2\":\"abcde\",\n",
    "    \"variable3\":True,\n",
    "}"
   ]
  },
  {
   "cell_type": "code",
   "execution_count": null,
   "metadata": {},
   "outputs": [],
   "source": [
    "my_tuple = (1, \"abcde\", True)"
   ]
  },
  {
   "cell_type": "markdown",
   "metadata": {},
   "source": [
    "## Logic"
   ]
  },
  {
   "cell_type": "markdown",
   "metadata": {},
   "source": [
    "When writing code, you'll often want your code to do some things some times and other things other times. We can control this using `if`, `elif`, and `else` commands."
   ]
  },
  {
   "cell_type": "code",
   "execution_count": null,
   "metadata": {},
   "outputs": [],
   "source": [
    "x = 5\n",
    "\n",
    "if x < 5:\n",
    "    print(\"x is less than 5\")\n",
    "# `elif` is equivalent to writing `else if`, just a good shorthand that keeps us from having to make lots of indents\n",
    "# Notice that \"equivalent to\" is two equals signs to differentiate it from assigning a variable\n",
    "elif x == 5:\n",
    "    print(\"x is 5\")\n",
    "else:\n",
    "    print(\"x is greater than 5\")"
   ]
  },
  {
   "cell_type": "markdown",
   "metadata": {},
   "source": [
    "Play around with this logic and see if there are other things that can work instead of using numbers!"
   ]
  },
  {
   "cell_type": "markdown",
   "metadata": {},
   "source": [
    "## Loops"
   ]
  },
  {
   "cell_type": "markdown",
   "metadata": {},
   "source": [
    "A common programming practice is to make your code do a task repeatedly until you would like it to stop. This is how we achieve peak efficiency! "
   ]
  },
  {
   "cell_type": "markdown",
   "metadata": {},
   "source": [
    "There are two types of loops in Python:\n",
    "* `for` --> For a given set of items, do something\n",
    "* `while` --> While a condition is met, do something"
   ]
  },
  {
   "cell_type": "code",
   "execution_count": null,
   "metadata": {},
   "outputs": [],
   "source": [
    "my_list = [1, 2, 3, 4, 5]\n",
    "\n",
    "for i in my_list:\n",
    "    print(i)"
   ]
  },
  {
   "cell_type": "markdown",
   "metadata": {},
   "source": [
    "You see here that instead of printing 5 different outcomes and having to write that line 5 times, we are able to loop through the list instead. You could copy this code and make it print 10 lines, or even 100."
   ]
  },
  {
   "cell_type": "code",
   "execution_count": null,
   "metadata": {},
   "outputs": [],
   "source": [
    "my_list = [1, 2, 3, 4, 5, 6, 7, 8, 9, 10]\n",
    "\n",
    "for i in my_list:\n",
    "    print(i)"
   ]
  },
  {
   "cell_type": "markdown",
   "metadata": {},
   "source": [
    "You can also do the same for a given range of values (useful for indexing):"
   ]
  },
  {
   "cell_type": "code",
   "execution_count": null,
   "metadata": {},
   "outputs": [],
   "source": [
    "my_list = [1, 2, 3, 4, 5, 6, 7, 8, 9, 10]\n",
    "\n",
    "for j in range(0, 5):\n",
    "    print(my_list[j])"
   ]
  },
  {
   "cell_type": "markdown",
   "metadata": {},
   "source": [
    "Let's try a `while` loop:"
   ]
  },
  {
   "cell_type": "code",
   "execution_count": null,
   "metadata": {},
   "outputs": [],
   "source": [
    "x = 0\n",
    "\n",
    "while x < 5:\n",
    "    print(x)\n",
    "    # This is equivalent to x = x + 1, more shorthand :)\n",
    "    x += 1"
   ]
  },
  {
   "cell_type": "markdown",
   "metadata": {},
   "source": [
    "Where `for` loops have a definite start and end, `while` loops do not. You'll have to be careful not to let your loop go on forever, otherwise you'll need to restart your notebook or your program (also called an infinite loop). "
   ]
  },
  {
   "cell_type": "markdown",
   "metadata": {},
   "source": [
    "Tinker around with these loops and see what else you can make more efficient!"
   ]
  },
  {
   "cell_type": "markdown",
   "metadata": {},
   "source": [
    "## Functions"
   ]
  },
  {
   "cell_type": "markdown",
   "metadata": {},
   "source": [
    "We've been using a function this whole time without even really taking about it: `print()`. What this does is take an input and tells Python to display this input. This is a great example of what we call a **function**. These functions take in an input (or many inputs) and give you an output (or many outputs, or maybe no output). For reference, the input variables are often called **arguments**.\n",
    "\n",
    "Let's create a few functions:"
   ]
  },
  {
   "cell_type": "code",
   "execution_count": null,
   "metadata": {},
   "outputs": [],
   "source": [
    "# Here, we are creating a function that takes in two variables (these do not have to exist already!)\n",
    "def my_function(x1, x2):\n",
    "    y = x1 + x2\n",
    "    # `return` tells the function to end, giving you the value of your variable `y`\n",
    "    return y\n",
    "\n",
    "def my_other_function(my_var1, my_var2, my_var3):\n",
    "    my_var4 = (my_var1 + 5) * (my_var2 - 5)\n",
    "    my_var5 = my_var3 ** 2\n",
    "    return my_var4, my_var5"
   ]
  },
  {
   "cell_type": "code",
   "execution_count": null,
   "metadata": {},
   "outputs": [],
   "source": [
    "my_function(5,10)"
   ]
  },
  {
   "cell_type": "code",
   "execution_count": null,
   "metadata": {},
   "outputs": [],
   "source": [
    "my_other_function(1,2,3)"
   ]
  },
  {
   "cell_type": "markdown",
   "metadata": {},
   "source": [
    "You can see that instead of witing the same code over and over again, we can use functions to be more efficient. This also means that we can develop pretty complex functions and all we need to do is type one line for it to run. Many built-in functions in Python operate this exact way!\n",
    "\n",
    "What other functions can you create?"
   ]
  },
  {
   "cell_type": "markdown",
   "metadata": {},
   "source": [
    "## End of Part One"
   ]
  },
  {
   "cell_type": "markdown",
   "metadata": {},
   "source": [
    "In this section, we talked about:\n",
    "* variables\n",
    "* collections of variables\n",
    "* logic\n",
    "* loops\n",
    "* functions\n",
    "\n",
    "The funnt thing about these basic building blocks of programming is that all of computing can be controlled through these means. Facebook, iOS, and Excel are all just very complex combinations these blocks. We won't be creating these applications in these tutorials, but my hope is that you'll be able to see in your day-to-day life how some of the applications you're using are put together.\n",
    "\n",
    "Welcome to programming and welcome to Python! :)"
   ]
  },
  {
   "cell_type": "code",
   "execution_count": null,
   "metadata": {},
   "outputs": [],
   "source": []
  }
 ],
 "metadata": {
  "kernelspec": {
   "display_name": "Python 3",
   "language": "python",
   "name": "python3"
  },
  "language_info": {
   "codemirror_mode": {
    "name": "ipython",
    "version": 3
   },
   "file_extension": ".py",
   "mimetype": "text/x-python",
   "name": "python",
   "nbconvert_exporter": "python",
   "pygments_lexer": "ipython3",
   "version": "3.8.3"
  }
 },
 "nbformat": 4,
 "nbformat_minor": 4
}
